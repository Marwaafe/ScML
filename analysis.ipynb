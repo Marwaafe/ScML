{
 "cells": [
  {
   "cell_type": "code",
   "execution_count": null,
   "id": "b2926182-f02d-47fc-ad04-2db6b2ceb042",
   "metadata": {},
   "outputs": [],
   "source": [
    "import numpy as np\n",
    "import sklearn \n",
    "import mlxtend \n",
    "import matplotlib.pyplot as plt\n",
    "import pandas as pd\n",
    "%matplotlib inline\n",
    "from scipy.stats import shapiro \n",
    "import statsmodels.api as sm\n",
    "from sklearn.decomposition import PCA\n"
   ]
  },
  {
   "cell_type": "code",
   "execution_count": null,
   "id": "91e11d52-0283-4ab4-8bf2-c318a4f2d003",
   "metadata": {},
   "outputs": [],
   "source": [
    "df = pd.read_csv('ppi.csv', delimiter=',')"
   ]
  },
  {
   "cell_type": "code",
   "execution_count": null,
   "id": "a0597ea7-bef8-471d-9651-3fe6959ebd05",
   "metadata": {},
   "outputs": [],
   "source": [
    "print(df.head())"
   ]
  },
  {
   "cell_type": "code",
   "execution_count": null,
   "id": "c5c66b15-1d3a-4497-b621-5f01b2b8717f",
   "metadata": {},
   "outputs": [],
   "source": [
    "#do PCA for intance \n",
    "#look at the feature importance \n",
    "#plot some of the data\n",
    "#preprocessing\n",
    "\n",
    "features_remove = [\"uniprot_id\", 'domain','sequence', 'p_interface'] \n",
    "\n",
    "##Maybe use o\tOne-hot coding for the categorical features\n",
    "\n",
    "df_wihtout_categorical_feat = df.drop(features_remove, axis=1)\n",
    "\n",
    "plt.hist(df['Rlength'])\n",
    "\n"
   ]
  },
  {
   "cell_type": "code",
   "execution_count": null,
   "id": "323f426f-3d5e-4b90-8346-c2fcfab90d3e",
   "metadata": {},
   "outputs": [],
   "source": [
    "fig = sm.qqplot(df['normalized_length'], line='45')\n",
    "plt.xlim(0, 1)  # Set x-axis limits\n",
    "plt.ylim(0, 1)\n",
    "plt.show()"
   ]
  },
  {
   "cell_type": "code",
   "execution_count": null,
   "id": "a36d9354-5e06-4f4f-b90e-454e1baddda0",
   "metadata": {},
   "outputs": [],
   "source": [
    "plt.hist(df['normalized_length'])\n",
    "shapiro(df['normalized_length'])"
   ]
  },
  {
   "cell_type": "code",
   "execution_count": null,
   "id": "aebc883f-5553-487c-b799-50ab8b0f703c",
   "metadata": {
    "scrolled": true
   },
   "outputs": [],
   "source": [
    "pca = PCA(n_components=10)\n",
    "\n",
    "pca.fit(df_wihtout_categorical_feat)\n",
    "pca_results = pca.fit_transform(df_wihtout_categorical_feat)"
   ]
  },
  {
   "cell_type": "code",
   "execution_count": null,
   "id": "6380aa73-4261-4bf6-8b4d-ab1470bbaaee",
   "metadata": {},
   "outputs": [],
   "source": [
    "explained_variance = pca.explained_variance_ratio_\n",
    "\n",
    "# Set figsize\n",
    "plt.figure(figsize=(10, 6))\n",
    "\n",
    "# Create a scree plot to visualize the explained variance\n",
    "plt.plot(range(1, len(explained_variance) + 1), # x-axis\n",
    "         explained_variance*100, # convert explained variance in percentage\n",
    "         marker='o', # add a marker at each value\n",
    "        )\n",
    "\n",
    "# Add title and axis label\n",
    "plt.title('Scree Plot of Explained Variance for Principal Components')\n",
    "plt.xlabel('Principal Component')\n",
    "plt.ylabel('Explained Variance (in %)')\n",
    "\n",
    "# Add label to x-axis\n",
    "plt.xticks(range(1, len(explained_variance) + 1))\n",
    "\n",
    "# Add grid in the background\n",
    "plt.grid(True)\n",
    "\n",
    "# Display the chart\n",
    "plt.show()\n"
   ]
  },
  {
   "cell_type": "code",
   "execution_count": null,
   "id": "4bdb5730-d5d0-4f9c-8cdf-e5578127dbd4",
   "metadata": {},
   "outputs": [],
   "source": [
    "plt.figure(figsize=(10, 6))\n",
    "plt.scatter(pca_results[:, 0], # position on the first principal component of the observations\n",
    "            pca_results[:, 1], alpha=0.7) # position on the second principal component of the observations\n",
    "\n",
    "# Add title and axis label\n",
    "plt.title('Scatter Plot of Observations in 2D PCA Space')\n",
    "plt.xlabel('Principal Component 1')\n",
    "plt.ylabel('Principal Component 2')\n",
    "\n",
    "# (optionally) Add labels to each point based on their index in the original dataframe\n",
    "for i, txt in enumerate(df_wihtout_categorical_feat.index):\n",
    "    plt.annotate(txt, (pca_results[i, 0], pca_results[i, 1]), fontsize=8)\n",
    "    # This might be useful when doing outlier detection\n",
    "\n",
    "# Add grid in the background\n",
    "plt.grid(True)\n",
    "\n",
    "# Display the chart\n",
    "plt.show()"
   ]
  },
  {
   "cell_type": "code",
   "execution_count": null,
   "id": "1c295ad0-7282-4800-a05c-ca247fb69ecd",
   "metadata": {},
   "outputs": [],
   "source": []
  }
 ],
 "metadata": {
  "kernelspec": {
   "display_name": "Python 3 (ipykernel)",
   "language": "python",
   "name": "python3"
  },
  "language_info": {
   "codemirror_mode": {
    "name": "ipython",
    "version": 3
   },
   "file_extension": ".py",
   "mimetype": "text/x-python",
   "name": "python",
   "nbconvert_exporter": "python",
   "pygments_lexer": "ipython3",
   "version": "3.12.4"
  }
 },
 "nbformat": 4,
 "nbformat_minor": 5
}
