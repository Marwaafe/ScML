{
 "cells": [
  {
   "cell_type": "code",
   "execution_count": 7,
   "id": "d686592f-d726-44e7-aac4-3b8a328037f5",
   "metadata": {},
   "outputs": [],
   "source": [
    "import numpy as np\n",
    "import sklearn \n",
    "import mlxtend \n",
    "import matplotlib.pyplot as plt\n",
    "import pandas as pd\n",
    "%matplotlib inline"
   ]
  },
  {
   "cell_type": "code",
   "execution_count": 8,
   "id": "0c453cb0-a276-4903-b903-9d4655981a64",
   "metadata": {},
   "outputs": [],
   "source": [
    "df = pd.read_csv('ppi.csv', delimiter=',')"
   ]
  },
  {
   "cell_type": "code",
   "execution_count": 9,
   "id": "73537c70-f73e-4e9c-9f10-7e2a46226217",
   "metadata": {},
   "outputs": [
    {
     "name": "stdout",
     "output_type": "stream",
     "text": [
      "   Unnamed: 0  domain  aa_ProtPosition  uniprot_id  Rlength sequence  \\\n",
      "0           0       0                1  A0A024RAV5      188        M   \n",
      "1           1       0                2  A0A024RAV5      188        T   \n",
      "2           2       0                3  A0A024RAV5      188        E   \n",
      "3           3       0                4  A0A024RAV5      188        Y   \n",
      "4           4       1                5  A0A024RAV5      188        K   \n",
      "\n",
      "   normalized_length  normalized_abs_surf_acc  normalized_hydropathy_index  \\\n",
      "0           0.238095                 0.784319                     0.711111   \n",
      "1           0.238095                 0.359207                     0.422222   \n",
      "2           0.238095                 0.395387                     0.111111   \n",
      "3           0.238095                 0.401655                     0.355556   \n",
      "4           0.238095                 0.288103                     0.066667   \n",
      "\n",
      "   rel_surf_acc  ...  9_wm_pssm_K  9_wm_pssm_M  9_wm_pssm_F  9_wm_pssm_P  \\\n",
      "0         0.803  ...     0.111111     0.111111     0.111111     0.111111   \n",
      "1         0.530  ...     0.111111     0.111111     0.111111     0.111111   \n",
      "2         0.464  ...     0.111111     0.111111     0.111111     0.111111   \n",
      "3         0.385  ...     0.111111     0.111111     0.111111     0.111111   \n",
      "4         0.287  ...     0.302858     0.436017     0.238759     0.103980   \n",
      "\n",
      "   9_wm_pssm_S  9_wm_pssm_T  9_wm_pssm_W  9_wm_pssm_Y  9_wm_pssm_V  \\\n",
      "0     0.111111     0.111111     0.111111     0.111111     0.111111   \n",
      "1     0.111111     0.111111     0.111111     0.111111     0.111111   \n",
      "2     0.111111     0.111111     0.111111     0.111111     0.111111   \n",
      "3     0.111111     0.111111     0.111111     0.111111     0.111111   \n",
      "4     0.105653     0.161544     0.060391     0.140326     0.481904   \n",
      "\n",
      "   p_interface  \n",
      "0            0  \n",
      "1            0  \n",
      "2            0  \n",
      "3            0  \n",
      "4            0  \n",
      "\n",
      "[5 rows x 138 columns]\n"
     ]
    }
   ],
   "source": [
    "print(df.head())"
   ]
  },
  {
   "cell_type": "code",
   "execution_count": null,
   "id": "1d3686c4-4d3c-4615-aba8-77559afb5c39",
   "metadata": {},
   "outputs": [],
   "source": []
  },
  {
   "cell_type": "code",
   "execution_count": null,
   "id": "d642b06b-390a-45ed-9701-345b964659f9",
   "metadata": {},
   "outputs": [],
   "source": []
  }
 ],
 "metadata": {
  "kernelspec": {
   "display_name": "Python 3 (ipykernel)",
   "language": "python",
   "name": "python3"
  },
  "language_info": {
   "codemirror_mode": {
    "name": "ipython",
    "version": 3
   },
   "file_extension": ".py",
   "mimetype": "text/x-python",
   "name": "python",
   "nbconvert_exporter": "python",
   "pygments_lexer": "ipython3",
   "version": "3.12.4"
  }
 },
 "nbformat": 4,
 "nbformat_minor": 5
}
